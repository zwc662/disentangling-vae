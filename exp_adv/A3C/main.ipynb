{
 "cells": [
  {
   "cell_type": "markdown",
   "metadata": {},
   "source": [
    "# Asynchronous Advantage Actor Critic (A3C)\n",
    "---\n",
    "In this notebook, we train A3C\n",
    "\n",
    "### 1. Import the Necessary Packages"
   ]
  },
  {
   "cell_type": "code",
   "execution_count": 3,
   "metadata": {},
   "outputs": [],
   "source": [
    "import os\n",
    "\n",
    "import torch\n",
    "import torch.multiprocessing as mp\n",
    "\n",
    "import my_optim\n",
    "from envs import create_atari_env\n",
    "from model import ActorCritic\n",
    "from test import test\n",
    "from train import train\n",
    "\n",
    "class args:\n",
    "    lr = 0.0001\n",
    "    gamma = 0.99\n",
    "    gae_lambda = 1.00\n",
    "    entropy_coef = 0.01\n",
    "    value_loss_coef = 0.5\n",
    "    max_grad_norm = 50\n",
    "    seed = 1\n",
    "    num_processes = 4\n",
    "    num_steps = 255\n",
    "    max_episode_length = 10000\n",
    "    env_name = None\n",
    "    no_shared = False\n",
    "    "
   ]
  },
  {
   "cell_type": "markdown",
   "metadata": {},
   "source": [
    "### 2. Instantiate the Environment and Agent"
   ]
  },
  {
   "cell_type": "code",
   "execution_count": null,
   "metadata": {},
   "outputs": [
    {
     "name": "stdout",
     "output_type": "stream",
     "text": [
      "Time 00h 00m 00s, num steps 249, FPS 906, episode reward -737.9431091547012, episode length 104\n",
      "Time 00h 01m 00s, num steps 24275, FPS 400, episode reward -723.7518955171108, episode length 102\n"
     ]
    }
   ],
   "source": [
    "os.environ['OMP_NUM_THREADS'] = '1'\n",
    "os.environ['CUDA_VISIBLE_DEVICES'] = \"\"\n",
    "torch.manual_seed(args.seed)\n",
    "env = create_atari_env(None)\n",
    "shared_model = ActorCritic(env.observation_space.shape[0], env.action_space)\n",
    "shared_model.share_memory()\n",
    "\n",
    "if args.no_shared:\n",
    "    optimizer = None\n",
    "else:\n",
    "    optimizer = my_optim.SharedAdam(shared_model.parameters(), lr=args.lr)\n",
    "    optimizer.share_memory()\n",
    "\n",
    "processes = []\n",
    "\n",
    "counter = mp.Value('i', 0)\n",
    "lock = mp.Lock()\n",
    "\n",
    "p = mp.Process(target=test, args=(args.num_processes, args, shared_model, counter))\n",
    "p.start()\n",
    "processes.append(p)\n",
    "\n",
    "for rank in range(0, args.num_processes):\n",
    "    p = mp.Process(target=train, args=(rank, args, shared_model, counter, lock, optimizer))\n",
    "    p.start()\n",
    "    processes.append(p)\n",
    "for p in processes:\n",
    "    p.join()"
   ]
  },
  {
   "cell_type": "markdown",
   "metadata": {},
   "source": [
    "### 4. Watch a Smart Agent!"
   ]
  },
  {
   "cell_type": "code",
   "execution_count": null,
   "metadata": {},
   "outputs": [],
   "source": [
    "agent.actor_local.load_state_dict(torch.load('checkpoint_actor.pth'))\n",
    "agent.critic_local.load_state_dict(torch.load('checkpoint_critic.pth'))\n",
    "\n",
    "state = env.reset()\n",
    "for t in range(200):\n",
    "    action = agent.act(state, add_noise=False)\n",
    "    env.render()\n",
    "    state, reward, done, _ = env.step(action)\n",
    "    print(reward, done)\n",
    "    if done:\n",
    "        break \n",
    "img = env.render()\n",
    "img.show()\n",
    "#env.close()"
   ]
  },
  {
   "cell_type": "markdown",
   "metadata": {},
   "source": [
    "### 6. Explore\n",
    "\n",
    "In this exercise, we have provided a sample DDPG agent and demonstrated how to use it to solve an OpenAI Gym environment.  To continue your learning, you are encouraged to complete any (or all!) of the following tasks:\n",
    "- Amend the various hyperparameters and network architecture to see if you can get your agent to solve the environment faster than this benchmark implementation.  Once you build intuition for the hyperparameters that work well with this environment, try solving a different OpenAI Gym task!\n",
    "- Write your own DDPG implementation.  Use this code as reference only when needed -- try as much as you can to write your own algorithm from scratch.\n",
    "- You may also like to implement prioritized experience replay, to see if it speeds learning.  \n",
    "- The current implementation adds Ornsetein-Uhlenbeck noise to the action space.  However, it has [been shown](https://blog.openai.com/better-exploration-with-parameter-noise/) that adding noise to the parameters of the neural network policy can improve performance.  Make this change to the code, to verify it for yourself!\n",
    "- Write a blog post explaining the intuition behind the DDPG algorithm and demonstrating how to use it to solve an RL environment of your choosing.  "
   ]
  }
 ],
 "metadata": {
  "kernelspec": {
   "display_name": "Python 3",
   "language": "python",
   "name": "python3"
  },
  "language_info": {
   "codemirror_mode": {
    "name": "ipython",
    "version": 3
   },
   "file_extension": ".py",
   "mimetype": "text/x-python",
   "name": "python",
   "nbconvert_exporter": "python",
   "pygments_lexer": "ipython3",
   "version": "3.7.4"
  }
 },
 "nbformat": 4,
 "nbformat_minor": 2
}
